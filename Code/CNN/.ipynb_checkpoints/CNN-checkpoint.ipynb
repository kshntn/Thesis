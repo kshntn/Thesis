{
 "cells": [
  {
   "cell_type": "code",
   "execution_count": 0,
   "metadata": {
    "colab": {},
    "colab_type": "code",
    "id": "uAyMz7wqRWi-"
   },
   "outputs": [],
   "source": [
    "import numpy as np\n",
    "from keras.models import Sequential\n",
    "from keras.layers import Dense, Flatten,Conv1D,MaxPooling1D\n",
    "from keras.layers.core import Dense, Dropout, Activation, Flatten\n",
    "from keras.optimizers import SGD, Adam, RMSprop,Adagrad\n",
    "from sklearn.metrics import confusion_matrix\n",
    "from sklearn.model_selection import KFold\n",
    "import matplotlib.pyplot as plt\n",
    "%matplotlib inline\n",
    "from sklearn.metrics import cohen_kappa_score\n",
    "import pandas as pd\n",
    "from sklearn.model_selection import train_test_split"
   ]
  },
  {
   "cell_type": "code",
   "execution_count": 27,
   "metadata": {
    "colab": {
     "base_uri": "https://localhost:8080/",
     "height": 34
    },
    "colab_type": "code",
    "id": "w2VXJUGFRWjG",
    "outputId": "065f415a-f123-4ad2-eb7e-053ed79ffef8"
   },
   "outputs": [
    {
     "name": "stdout",
     "output_type": "stream",
     "text": [
      "(2972, 20)\n"
     ]
    }
   ],
   "source": [
    "np.random.seed(7)\n",
    "data= np.loadtxt('grayscale.csv', delimiter=',', dtype='float32')\n",
    "label=np.loadtxt('encodedlabel.csv',delimiter=',',dtype='float32')\n",
    "print(data.shape)\n",
    "Accu=[]"
   ]
  },
  {
   "cell_type": "code",
   "execution_count": 0,
   "metadata": {
    "colab": {},
    "colab_type": "code",
    "id": "f2liMhWSSKm5"
   },
   "outputs": [],
   "source": [
    "# Test train split\n",
    "train_data, test_data, train_label, test_label = train_test_split(data, label, test_size=0.20, random_state=42)"
   ]
  },
  {
   "cell_type": "code",
   "execution_count": 0,
   "metadata": {
    "colab": {},
    "colab_type": "code",
    "id": "VK8f5a-tRWjR"
   },
   "outputs": [],
   "source": [
    "# Reshaping of data to 5x4 image\n",
    "train_data= train_data.reshape(train_data.shape[0],5,4)\n",
    "test_data= test_data.reshape(test_data.shape[0],5,4)"
   ]
  },
  {
   "cell_type": "code",
   "execution_count": 30,
   "metadata": {
    "colab": {
     "base_uri": "https://localhost:8080/",
     "height": 543
    },
    "colab_type": "code",
    "id": "VGRirgE8RWjU",
    "outputId": "b6895c07-6585-46a4-87d0-ba25c729da82"
   },
   "outputs": [
    {
     "data": {
      "image/png": "[encoded data removed]",
      "text/plain": [
       "<Figure size 360x288 with 1 Axes>"
      ]
     },
     "metadata": {
      "tags": []
     },
     "output_type": "display_data"
    },
    {
     "data": {
      "image/png": "[encoded data removed]",
      "text/plain": [
       "<Figure size 360x288 with 1 Axes>"
      ]
     },
     "metadata": {
      "tags": []
     },
     "output_type": "display_data"
    }
   ],
   "source": [
    "import matplotlib.pyplot as plt\n",
    "%matplotlib inline\n",
    "plt.figure(figsize=(5,4))\n",
    "plt.imshow(train_data[1],cmap='gray')\n",
    "plt.title(train_label[1].argmax());\n",
    "plt.figure(figsize=(5,4))\n",
    "plt.imshow(train_data[2],cmap='gray')\n",
    "plt.title(train_label[2].argmax());"
   ]
  },
  {
   "cell_type": "code",
   "execution_count": 36,
   "metadata": {
    "colab": {
     "base_uri": "https://localhost:8080/",
     "height": 952
    },
    "colab_type": "code",
    "id": "9ZZ25NzoRWjX",
    "outputId": "95681973-8fdb-41af-dc80-74570aa93048",
    "scrolled": false
   },
   "outputs": [
    {
     "name": "stdout",
     "output_type": "stream",
     "text": [
      "_________________________________________________________________\n",
      "Layer (type)                 Output Shape              Param #   \n",
      "=================================================================\n",
      "conv1d_11 (Conv1D)           (None, 5, 32)             288       \n",
      "_________________________________________________________________\n",
      "flatten_11 (Flatten)         (None, 160)               0         \n",
      "_________________________________________________________________\n",
      "dense_21 (Dense)             (None, 128)               20608     \n",
      "_________________________________________________________________\n",
      "dropout_11 (Dropout)         (None, 128)               0         \n",
      "_________________________________________________________________\n",
      "dense_22 (Dense)             (None, 3)                 387       \n",
      "=================================================================\n",
      "Total params: 21,283\n",
      "Trainable params: 21,283\n",
      "Non-trainable params: 0\n",
      "_________________________________________________________________\n",
      "None\n",
      "Train on 1901 samples, validate on 476 samples\n",
      "Epoch 1/10\n",
      "1901/1901 [==============================] - 1s 559us/step - loss: 0.7276 - acc: 0.7412 - val_loss: 0.4978 - val_acc: 0.8782\n",
      "Epoch 2/10\n",
      "1901/1901 [==============================] - 0s 73us/step - loss: 0.4803 - acc: 0.8674 - val_loss: 0.3930 - val_acc: 0.8929\n",
      "Epoch 3/10\n",
      "1901/1901 [==============================] - 0s 71us/step - loss: 0.4097 - acc: 0.8874 - val_loss: 0.3367 - val_acc: 0.9034\n",
      "Epoch 4/10\n",
      "1901/1901 [==============================] - 0s 74us/step - loss: 0.3568 - acc: 0.8995 - val_loss: 0.3093 - val_acc: 0.9055\n",
      "Epoch 5/10\n",
      "1901/1901 [==============================] - 0s 73us/step - loss: 0.3269 - acc: 0.9085 - val_loss: 0.2948 - val_acc: 0.8971\n",
      "Epoch 6/10\n",
      "1901/1901 [==============================] - 0s 70us/step - loss: 0.3051 - acc: 0.9122 - val_loss: 0.2689 - val_acc: 0.9034\n",
      "Epoch 7/10\n",
      "1901/1901 [==============================] - 0s 77us/step - loss: 0.2841 - acc: 0.9153 - val_loss: 0.2587 - val_acc: 0.9034\n",
      "Epoch 8/10\n",
      "1901/1901 [==============================] - 0s 70us/step - loss: 0.2820 - acc: 0.9137 - val_loss: 0.2421 - val_acc: 0.9139\n",
      "Epoch 9/10\n",
      "1901/1901 [==============================] - 0s 73us/step - loss: 0.2623 - acc: 0.9158 - val_loss: 0.2318 - val_acc: 0.9223\n",
      "Epoch 10/10\n",
      "1901/1901 [==============================] - 0s 72us/step - loss: 0.2561 - acc: 0.9143 - val_loss: 0.2270 - val_acc: 0.9118\n",
      "595/595 [==============================] - 0s 38us/step\n",
      "Accuracy: 92.94117647058823\n",
      "Confusion Matrix\n",
      "[[209   3   0]\n",
      " [  3 204   1]\n",
      " [  2  33 140]]\n",
      "Precision(Normal) 0.9766355140186916\n",
      "Precision(DOS) 0.85\n",
      "Precision(Probe) 0.9929078014184397\n",
      "Recall(Normal) 0.9858490566037735\n",
      "Recall(DOS) 0.9807692307692307\n",
      "Recall(Probe) 0.8\n",
      "FScore(Normal) 0.9812206572769953\n",
      "FScore(DOS) 0.9107142857142857\n",
      "FScore(Probe) 0.8860759493670887\n",
      "kappa_score 0.8932334167870052\n"
     ]
    }
   ],
   "source": [
    "model= Sequential()\n",
    "# Convolutional1D with 'same' padding and TanH activation\n",
    "model.add(Conv1D(strides=1, input_shape=(5,4), padding=\"same\", activation=\"tanh\", filters=32,kernel_size=2)),\n",
    "model.add(Flatten())\n",
    "# Hidden layer of 128 neurons\n",
    "model.add(Dense(128, input_dim=20, activation='relu'))\n",
    "# Dropout added to\n",
    "model.add(Dropout(0.2))\n",
    "model.add(Dense(3, activation='softmax'))\n",
    "\n",
    "ada=Adagrad(lr=0.001)\n",
    "# sgd = SGD(lr=0.01)\n",
    "\n",
    "model.compile(loss='categorical_crossentropy', optimizer=ada, metrics=['acc'])\n",
    "\n",
    "print(model.summary())\n",
    "\n",
    "history=model.fit(train_data, train_label, epochs=10, batch_size=None,validation_split=0.2)\n",
    "\n",
    "scores= model.evaluate(test_data,test_label)\n",
    "print(\"Accuracy:\",scores[1]*100)\n",
    "pred=model.predict(test_data)\n",
    "cm=confusion_matrix(test_label.argmax(axis=1),pred.argmax(axis=1))\n",
    "print(\"Confusion Matrix\")\n",
    "print(cm)\n",
    "\n",
    "\n",
    "PN=(np.float(cm[0][0])/np.float(np.sum(cm[:,0])))\n",
    "PD=(np.float(cm[1][1])/np.float(np.sum(cm[:,1])))\n",
    "PP=(np.float(cm[2][2])/np.float(np.sum(cm[:,2])))\n",
    "\n",
    "print('Precision(Normal)',PN)\n",
    "print('Precision(DOS)',PD)\n",
    "print('Precision(Probe)',PP)\n",
    "\n",
    "RN=(np.float(cm[0][0])/np.float(np.sum(cm[0,:])))\n",
    "RD=(np.float(cm[1][1])/np.float(np.sum(cm[1,:])))\n",
    "RP=(np.float(cm[2][2])/np.float(np.sum(cm[2,:])))\n",
    "print('Recall(Normal)',RN)\n",
    "print('Recall(DOS)',RD)\n",
    "print('Recall(Probe)',RP)\n",
    "\n",
    "FSN=2*(PN*RN)/(PN+RN)\n",
    "FSD=2*(PD*RD)/(PD+RD)\n",
    "FSP=2*(PP*RP)/(PP+RP)\n",
    "print('FScore(Normal)',FSN)\n",
    "print('FScore(DOS)',FSD)\n",
    "print('FScore(Probe)',FSP)\n",
    "\n",
    "kappa_score=cohen_kappa_score(test_label.argmax(axis=1),pred.argmax(axis=1))\n",
    "print('kappa_score',kappa_score)"
   ]
  },
  {
   "cell_type": "code",
   "execution_count": 37,
   "metadata": {
    "colab": {
     "base_uri": "https://localhost:8080/",
     "height": 294
    },
    "colab_type": "code",
    "id": "1L1UvlOyRWja",
    "outputId": "4082244b-b809-4851-e2c2-e17965cf58d6"
   },
   "outputs": [
    {
     "data": {
      "image/png": "[encoded data removed]",
      "text/plain": [
       "<Figure size 432x288 with 1 Axes>"
      ]
     },
     "metadata": {
      "tags": []
     },
     "output_type": "display_data"
    }
   ],
   "source": [
    "plt.plot(history.history['acc'])\n",
    "plt.plot(history.history['val_acc'])\n",
    "plt.title('model accuracy')\n",
    "plt.ylabel('accuracy')\n",
    "plt.xlabel('epoch')\n",
    "plt.ylim(0.5, 1)\n",
    "plt.legend(['train', 'test'], loc='upper left')\n",
    "plt.show()\n"
   ]
  },
  {
   "cell_type": "code",
   "execution_count": 39,
   "metadata": {
    "colab": {
     "base_uri": "https://localhost:8080/",
     "height": 294
    },
    "colab_type": "code",
    "id": "NJq8kwd2RWjd",
    "outputId": "eb7fb2ab-27de-4cd5-f2fd-580bd0948463"
   },
   "outputs": [
    {
     "data": {
      "image/png": "[encoded data removed]",
      "text/plain": [
       "<Figure size 432x288 with 1 Axes>"
      ]
     },
     "metadata": {
      "tags": []
     },
     "output_type": "display_data"
    }
   ],
   "source": [
    "plt.plot(history.history['loss'])\n",
    "plt.plot(history.history['val_loss'])\n",
    "plt.title('model loss')\n",
    "plt.ylabel('loss')\n",
    "plt.xlabel('epoch')\n",
    "plt.ylim(0.01,.9)\n",
    "plt.legend(['train', 'test'], loc='upper left')\n",
    "plt.show()"
   ]
  },
  {
   "cell_type": "code",
   "execution_count": 0,
   "metadata": {
    "colab": {},
    "colab_type": "code",
    "id": "QUCMymjSRWjg"
   },
   "outputs": [],
   "source": []
  }
 ],
 "metadata": {
  "colab": {
   "name": "CNN.ipynb",
   "provenance": [],
   "version": "0.3.2"
  },
  "kernelspec": {
   "display_name": "Python 2",
   "language": "python",
   "name": "python2"
  },
  "language_info": {
   "codemirror_mode": {
    "name": "ipython",
    "version": 2
   },
   "file_extension": ".py",
   "mimetype": "text/x-python",
   "name": "python",
   "nbconvert_exporter": "python",
   "pygments_lexer": "ipython2",
   "version": "2.7.12"
  }
 },
 "nbformat": 4,
 "nbformat_minor": 1
}
