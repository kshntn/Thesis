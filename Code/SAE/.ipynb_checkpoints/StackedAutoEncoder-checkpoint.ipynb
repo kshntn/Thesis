{
 "cells": [
  {
   "cell_type": "code",
   "execution_count": 0,
   "metadata": {
    "colab": {},
    "colab_type": "code",
    "id": "XAB1NuX9HBQE"
   },
   "outputs": [],
   "source": [
    "import numpy as np\n",
    "from keras.models import Sequential\n",
    "from keras.layers import Dense, Flatten,Conv1D,MaxPooling1D\n",
    "from keras.layers.core import Dense, Dropout, Activation, Flatten\n",
    "from keras.optimizers import SGD, Adam,RMSprop,Adagrad\n",
    "from keras.layers import Input, Dense\n",
    "from keras.models import Model\n",
    "from sklearn.metrics import confusion_matrix\n",
    "import matplotlib.pyplot as plt\n",
    "from sklearn.metrics import cohen_kappa_score\n",
    "%matplotlib inline\n",
    "from sklearn.model_selection import train_test_split"
   ]
  },
  {
   "cell_type": "code",
   "execution_count": 0,
   "metadata": {
    "colab": {},
    "colab_type": "code",
    "id": "5bfgggvLHBQI"
   },
   "outputs": [],
   "source": [
    "np.random.seed(7)\n",
    "data= np.loadtxt('norm.csv', delimiter=',', dtype='float32')\n",
    "label=np.loadtxt('encodedlabel.csv',delimiter=',',dtype='float32')"
   ]
  },
  {
   "cell_type": "code",
   "execution_count": 72,
   "metadata": {
    "colab": {
     "base_uri": "https://localhost:8080/",
     "height": 34
    },
    "colab_type": "code",
    "id": "71_g7as2HBQK",
    "outputId": "a0615cb5-a780-49d3-b8d8-ad7e8973a70d"
   },
   "outputs": [
    {
     "name": "stdout",
     "output_type": "stream",
     "text": [
      "(2377, 14) (2377, 3) (595, 14) (595, 3)\n"
     ]
    }
   ],
   "source": [
    "train_data, test_data, train_label, test_label = train_test_split(data, label, test_size=0.20, random_state=42)\n",
    "print(train_data.shape, train_label.shape,test_data.shape, test_label.shape)"
   ]
  },
  {
   "cell_type": "code",
   "execution_count": 0,
   "metadata": {
    "colab": {},
    "colab_type": "code",
    "id": "8y-GcZ6_HBQO"
   },
   "outputs": [],
   "source": [
    "ada=Adagrad(lr=0.01)"
   ]
  },
  {
   "cell_type": "code",
   "execution_count": 91,
   "metadata": {
    "colab": {
     "base_uri": "https://localhost:8080/",
     "height": 85
    },
    "colab_type": "code",
    "id": "gac8yu0kHBQR",
    "outputId": "c7f7ce66-e903-446d-a6fe-639cf3ed81a2"
   },
   "outputs": [
    {
     "name": "stdout",
     "output_type": "stream",
     "text": [
      "Train on 1901 samples, validate on 476 samples\n",
      "Epoch 1/1\n",
      "1901/1901 [==============================] - 3s 2ms/step - loss: 0.0992 - val_loss: 0.0807\n",
      "(2377, 7)\n"
     ]
    }
   ],
   "source": [
    "# layer 1\n",
    "input_1= Input(shape=(14,))\n",
    "enc_1= Dense(7, activation='relu')(input_1)\n",
    "dec_1=Dense(14, activation='relu')(enc_1)\n",
    "\n",
    "autoenc_1= Model(input_1, dec_1)\n",
    "encoder_1= Model(input_1, enc_1)\n",
    "\n",
    "autoenc_1.compile(optimizer=ada, loss='mean_squared_error')\n",
    "autoenc_1.fit(train_data,train_data,epochs=1,validation_split=0.2)\n",
    "\n",
    "\n",
    "ly1_predict= encoder_1.predict(train_data)\n",
    "print(ly1_predict.shape)"
   ]
  },
  {
   "cell_type": "code",
   "execution_count": 92,
   "metadata": {
    "colab": {
     "base_uri": "https://localhost:8080/",
     "height": 85
    },
    "colab_type": "code",
    "id": "pTjGPY7OHBQU",
    "outputId": "703146d2-7135-4763-e762-38546e2dde2a"
   },
   "outputs": [
    {
     "name": "stdout",
     "output_type": "stream",
     "text": [
      "Train on 1901 samples, validate on 476 samples\n",
      "Epoch 1/1\n",
      "1901/1901 [==============================] - 3s 1ms/step - loss: 0.0466 - val_loss: 0.0237\n",
      "(2377, 5)\n"
     ]
    }
   ],
   "source": [
    "# layer 2\n",
    "input_2= Input(shape=(7,))\n",
    "enc_2= Dense(5, activation='relu')(input_2)\n",
    "dec_2=Dense(7, activation='relu')(enc_2)\n",
    "\n",
    "autoenc_2= Model(input_2, dec_2)\n",
    "encoder_2= Model(input_2, enc_2)\n",
    "\n",
    "autoenc_2.compile(optimizer=ada, loss='mean_squared_error')\n",
    "autoenc_2.fit(ly1_predict,ly1_predict,epochs=1,validation_split=0.2)\n",
    "\n",
    "\n",
    "ly2_predict= encoder_2.predict(ly1_predict)\n",
    "print(ly2_predict.shape)"
   ]
  },
  {
   "cell_type": "code",
   "execution_count": 93,
   "metadata": {
    "colab": {
     "base_uri": "https://localhost:8080/",
     "height": 85
    },
    "colab_type": "code",
    "id": "d_yjeubiHBQX",
    "outputId": "3fd84a19-0524-46f3-c2da-3bad85ca1add"
   },
   "outputs": [
    {
     "name": "stdout",
     "output_type": "stream",
     "text": [
      "Train on 1901 samples, validate on 476 samples\n",
      "Epoch 1/1\n",
      "1901/1901 [==============================] - 3s 1ms/step - loss: 0.1176 - val_loss: 0.1190\n",
      "(2377, 3)\n"
     ]
    }
   ],
   "source": [
    "# layer 3\n",
    "input_3= Input(shape=(5,))\n",
    "enc_3= Dense(3, activation='relu')(input_3)\n",
    "dec_3=Dense(5, activation='relu')(enc_3)\n",
    "\n",
    "autoenc_3= Model(input_3, dec_3)\n",
    "encoder_3= Model(input_3, enc_3)\n",
    "\n",
    "autoenc_3.compile(optimizer=ada, loss='mean_squared_error')\n",
    "autoenc_3.fit(ly2_predict,ly2_predict,epochs=1,validation_split=0.2)\n",
    "\n",
    "\n",
    "ly3_predict= encoder_3.predict(ly2_predict)\n",
    "print(ly3_predict.shape)"
   ]
  },
  {
   "cell_type": "code",
   "execution_count": 95,
   "metadata": {
    "colab": {
     "base_uri": "https://localhost:8080/",
     "height": 833
    },
    "colab_type": "code",
    "id": "1CcqmC5NHBQZ",
    "outputId": "363f5d22-8f5f-4561-bac4-22a9b661ce60",
    "scrolled": false
   },
   "outputs": [
    {
     "name": "stdout",
     "output_type": "stream",
     "text": [
      "Train on 1901 samples, validate on 476 samples\n",
      "Epoch 1/5\n",
      "1901/1901 [==============================] - 3s 2ms/step - loss: 0.1346 - acc: 0.0710 - val_loss: 0.1227 - val_acc: 0.0819\n",
      "Epoch 2/5\n",
      "1901/1901 [==============================] - 0s 57us/step - loss: 0.1206 - acc: 0.0715 - val_loss: 0.1201 - val_acc: 0.0819\n",
      "Epoch 3/5\n",
      "1901/1901 [==============================] - 0s 59us/step - loss: 0.1188 - acc: 0.0884 - val_loss: 0.1189 - val_acc: 0.1303\n",
      "Epoch 4/5\n",
      "1901/1901 [==============================] - 0s 60us/step - loss: 0.1176 - acc: 0.1078 - val_loss: 0.1177 - val_acc: 0.1050\n",
      "Epoch 5/5\n",
      "1901/1901 [==============================] - 0s 58us/step - loss: 0.1167 - acc: 0.0773 - val_loss: 0.1170 - val_acc: 0.0819\n",
      "Train on 1901 samples, validate on 476 samples\n",
      "Epoch 1/10\n",
      "1901/1901 [==============================] - 3s 2ms/step - loss: 0.2210 - acc: 0.4966 - val_loss: 0.1938 - val_acc: 0.6282\n",
      "Epoch 2/10\n",
      "1901/1901 [==============================] - 0s 51us/step - loss: 0.1798 - acc: 0.6739 - val_loss: 0.1692 - val_acc: 0.6702\n",
      "Epoch 3/10\n",
      "1901/1901 [==============================] - 0s 53us/step - loss: 0.1561 - acc: 0.7706 - val_loss: 0.1468 - val_acc: 0.8277\n",
      "Epoch 4/10\n",
      "1901/1901 [==============================] - 0s 52us/step - loss: 0.1350 - acc: 0.8785 - val_loss: 0.1270 - val_acc: 0.8718\n",
      "Epoch 5/10\n",
      "1901/1901 [==============================] - 0s 52us/step - loss: 0.1147 - acc: 0.8974 - val_loss: 0.1083 - val_acc: 0.8845\n",
      "Epoch 6/10\n",
      "1901/1901 [==============================] - 0s 53us/step - loss: 0.0997 - acc: 0.8974 - val_loss: 0.0956 - val_acc: 0.8866\n",
      "Epoch 7/10\n",
      "1901/1901 [==============================] - 0s 54us/step - loss: 0.0889 - acc: 0.8969 - val_loss: 0.0875 - val_acc: 0.8845\n",
      "Epoch 8/10\n",
      "1901/1901 [==============================] - 0s 52us/step - loss: 0.0812 - acc: 0.8969 - val_loss: 0.0802 - val_acc: 0.8866\n",
      "Epoch 9/10\n",
      "1901/1901 [==============================] - 0s 53us/step - loss: 0.0756 - acc: 0.8969 - val_loss: 0.0756 - val_acc: 0.8845\n",
      "Epoch 10/10\n",
      "1901/1901 [==============================] - 0s 52us/step - loss: 0.0713 - acc: 0.8969 - val_loss: 0.0718 - val_acc: 0.8845\n",
      "595/595 [==============================] - 0s 38us/step\n",
      "Accuracy: 91.9327731793668\n",
      "Confusion Matrix\n",
      "[[209   3   0]\n",
      " [  2 204   2]\n",
      " [  2  39 134]]\n",
      "Precision(Normal) 0.9812206572769953\n",
      "Precision(DOS) 0.8292682926829268\n",
      "Precision(Probe) 0.9852941176470589\n",
      "Recall(Normal) 0.9858490566037735\n",
      "Recall(DOS) 0.9807692307692307\n",
      "Recall(Probe) 0.7657142857142857\n",
      "FScore(Normal) 0.9835294117647059\n",
      "FScore(DOS) 0.8986784140969163\n",
      "FScore(Probe) 0.8617363344051447\n",
      "kappa_score 0.8778970590121462\n"
     ]
    }
   ],
   "source": [
    "# Deep stacked auto encoder\n",
    "ly_1= autoenc_1.layers[1].get_weights()\n",
    "ly_2= autoenc_2.layers[1].get_weights()\n",
    "ly_3= autoenc_3.layers[1].get_weights()\n",
    "\n",
    "inputSAE= Input(shape=(14,))\n",
    "hid_1= Dense(7, activation='relu', input_shape=(14,), name=\"layer1\")(inputSAE)\n",
    "hid_2= Dense(5, activation='relu',name=\"layer2\")(hid_1)\n",
    "hid_3= Dense(3, activation='softmax',)(hid_2)\n",
    "hid_4= Dense(5, activation='relu',)(hid_3)\n",
    "hid_5= Dense(7, activation='relu',)(hid_4)\n",
    "hid_6= Dense(14, activation='relu',)(hid_5)\n",
    "\n",
    "model= Model(inputSAE, hid_6)\n",
    "SAE= Model(inputSAE, hid_3)\n",
    "\n",
    "model.layers[1].set_weights(ly_1) # first dense layer\n",
    "model.layers[2].set_weights(ly_2)\n",
    "model.layers[3].set_weights(ly_3)\n",
    "\n",
    "\n",
    "model.compile(optimizer=ada, loss='mean_squared_error', metrics=['accuracy'])\n",
    "model.fit(train_data, train_data,epochs=5,shuffle=True,verbose=1, validation_split=0.2)\n",
    "\n",
    "SAE.compile(optimizer=ada, loss='mean_squared_error', metrics=['accuracy'])\n",
    "history=SAE.fit(train_data, train_label,epochs=10,shuffle=True,verbose=1, validation_split=0.2)\n",
    "scores=SAE.evaluate(test_data,test_label)\n",
    "print(\"Accuracy:\",scores[1]*100)\n",
    "pred=SAE.predict(test_data)\n",
    "cm=confusion_matrix(test_label.argmax(axis=1),pred.argmax(axis=1))\n",
    "print(\"Confusion Matrix\")\n",
    "print(cm)\n",
    "PN=(np.float(cm[0][0])/np.float(np.sum(cm[:,0])))\n",
    "PD=(np.float(cm[1][1])/np.float(np.sum(cm[:,1])))\n",
    "PP=(np.float(cm[2][2])/np.float(np.sum(cm[:,2])))\n",
    "\n",
    "print('Precision(Normal)',PN)\n",
    "print('Precision(DOS)',PD)\n",
    "print('Precision(Probe)',PP)\n",
    "\n",
    "RN=(np.float(cm[0][0])/np.float(np.sum(cm[0,:])))\n",
    "RD=(np.float(cm[1][1])/np.float(np.sum(cm[1,:])))\n",
    "RP=(np.float(cm[2][2])/np.float(np.sum(cm[2,:])))\n",
    "print('Recall(Normal)',RN)\n",
    "print('Recall(DOS)',RD)\n",
    "print('Recall(Probe)',RP)\n",
    "\n",
    "FSN=2*(PN*RN)/(PN+RN)\n",
    "FSD=2*(PD*RD)/(PD+RD)\n",
    "FSP=2*(PP*RP)/(PP+RP)\n",
    "print('FScore(Normal)',FSN)\n",
    "print('FScore(DOS)',FSD)\n",
    "print('FScore(Probe)',FSP)\n",
    "\n",
    "kappa_score=cohen_kappa_score(test_label.argmax(axis=1),pred.argmax(axis=1))\n",
    "print('kappa_score',kappa_score)"
   ]
  },
  {
   "cell_type": "code",
   "execution_count": 102,
   "metadata": {
    "colab": {
     "base_uri": "https://localhost:8080/",
     "height": 294
    },
    "colab_type": "code",
    "id": "PJ-NKg4qHBQc",
    "outputId": "bb31c5b2-26ae-4ec1-bb00-3036fa046f77"
   },
   "outputs": [
    {
     "data": {
      "image/png": "[encoded data removed]",
      "text/plain": [
       "<Figure size 432x288 with 1 Axes>"
      ]
     },
     "metadata": {
      "tags": []
     },
     "output_type": "display_data"
    }
   ],
   "source": [
    "plt.plot(history.history['acc'])\n",
    "plt.plot(history.history['val_acc'])\n",
    "plt.title('model accuracy')\n",
    "plt.ylabel('accuracy')\n",
    "plt.xlabel('epoch')\n",
    "plt.ylim(0.5, 1)\n",
    "plt.legend(['train', 'test'], loc='upper left')\n",
    "plt.show()"
   ]
  },
  {
   "cell_type": "code",
   "execution_count": 103,
   "metadata": {
    "colab": {
     "base_uri": "https://localhost:8080/",
     "height": 294
    },
    "colab_type": "code",
    "id": "MiU0O5GaHBQf",
    "outputId": "0eb59ad4-d379-4eb6-e1cd-5bdd17b60626"
   },
   "outputs": [
    {
     "data": {
      "image/png": "[encoded data removed]",
      "text/plain": [
       "<Figure size 432x288 with 1 Axes>"
      ]
     },
     "metadata": {
      "tags": []
     },
     "output_type": "display_data"
    }
   ],
   "source": [
    "plt.plot(history.history['loss'])\n",
    "plt.plot(history.history['val_loss'])\n",
    "plt.title('model loss')\n",
    "plt.ylabel('loss')\n",
    "plt.xlabel('epoch')\n",
    "plt.ylim(0.01,.5)\n",
    "plt.legend(['train', 'test'], loc='upper left')\n",
    "plt.show()"
   ]
  },
  {
   "cell_type": "code",
   "execution_count": 0,
   "metadata": {
    "colab": {},
    "colab_type": "code",
    "id": "MSWVSfcoHBQi"
   },
   "outputs": [],
   "source": []
  }
 ],
 "metadata": {
  "colab": {
   "name": "StackedAutoEncoder.ipynb",
   "provenance": [],
   "version": "0.3.2"
  },
  "kernelspec": {
   "display_name": "Python 2",
   "language": "python",
   "name": "python2"
  },
  "language_info": {
   "codemirror_mode": {
    "name": "ipython",
    "version": 2
   },
   "file_extension": ".py",
   "mimetype": "text/x-python",
   "name": "python",
   "nbconvert_exporter": "python",
   "pygments_lexer": "ipython2",
   "version": "2.7.12"
  }
 },
 "nbformat": 4,
 "nbformat_minor": 1
}
