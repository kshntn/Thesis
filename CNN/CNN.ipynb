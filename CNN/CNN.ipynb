{
 "cells": [
  {
   "cell_type": "code",
   "execution_count": 40,
   "metadata": {},
   "outputs": [],
   "source": [
    "import numpy as np\n",
    "from keras.models import Sequential\n",
    "from keras.layers import Dense, Flatten,Conv1D,MaxPooling1D\n",
    "from keras.layers.core import Dense, Dropout, Activation, Flatten\n",
    "from keras.optimizers import SGD, Adam\n",
    "from sklearn.metrics import confusion_matrix"
   ]
  },
  {
   "cell_type": "code",
   "execution_count": 34,
   "metadata": {},
   "outputs": [],
   "source": [
    "data= np.loadtxt('grayscale.csv', delimiter=',', dtype='float32')\n",
    "label=np.loadtxt('encodedlabel.csv',delimiter=',',dtype='float32')"
   ]
  },
  {
   "cell_type": "code",
   "execution_count": 35,
   "metadata": {},
   "outputs": [
    {
     "name": "stdout",
     "output_type": "stream",
     "text": [
      "((900, 20), (900, 3), (232, 20), (232, 3))\n"
     ]
    }
   ],
   "source": [
    "train_data=data[0:900,:]\n",
    "test_data=data[900:,:]\n",
    "train_label=label[0:900,:]\n",
    "test_label=label[900:,:]\n",
    "print(train_data.shape, train_label.shape,test_data.shape, test_label.shape)"
   ]
  },
  {
   "cell_type": "code",
   "execution_count": 36,
   "metadata": {},
   "outputs": [],
   "source": [
    "train_data= train_data.reshape(train_data.shape[0],5,4)\n",
    "test_data= test_data.reshape(test_data.shape[0],5,4)"
   ]
  },
  {
   "cell_type": "code",
   "execution_count": 82,
   "metadata": {
    "scrolled": false
   },
   "outputs": [
    {
     "name": "stdout",
     "output_type": "stream",
     "text": [
      "_________________________________________________________________\n",
      "Layer (type)                 Output Shape              Param #   \n",
      "=================================================================\n",
      "conv1d_47 (Conv1D)           (None, 5, 32)             288       \n",
      "_________________________________________________________________\n",
      "flatten_47 (Flatten)         (None, 160)               0         \n",
      "_________________________________________________________________\n",
      "dense_93 (Dense)             (None, 128)               20608     \n",
      "_________________________________________________________________\n",
      "dropout_47 (Dropout)         (None, 128)               0         \n",
      "_________________________________________________________________\n",
      "dense_94 (Dense)             (None, 3)                 387       \n",
      "=================================================================\n",
      "Total params: 21,283\n",
      "Trainable params: 21,283\n",
      "Non-trainable params: 0\n",
      "_________________________________________________________________\n",
      "None\n",
      "Train on 720 samples, validate on 180 samples\n",
      "Epoch 1/10\n",
      "720/720 [==============================] - 2s 2ms/step - loss: 0.9894 - acc: 0.5583 - val_loss: 0.8525 - val_acc: 0.6167\n",
      "Epoch 2/10\n",
      "720/720 [==============================] - 0s 147us/step - loss: 0.6914 - acc: 0.7375 - val_loss: 0.7799 - val_acc: 0.6056\n",
      "Epoch 3/10\n",
      "720/720 [==============================] - 0s 145us/step - loss: 0.5995 - acc: 0.7583 - val_loss: 0.6530 - val_acc: 0.6222\n",
      "Epoch 4/10\n",
      "720/720 [==============================] - 0s 141us/step - loss: 0.5332 - acc: 0.7889 - val_loss: 0.5480 - val_acc: 0.7333\n",
      "Epoch 5/10\n",
      "720/720 [==============================] - 0s 202us/step - loss: 0.4572 - acc: 0.8194 - val_loss: 0.4870 - val_acc: 0.7500\n",
      "Epoch 6/10\n",
      "720/720 [==============================] - 0s 156us/step - loss: 0.4240 - acc: 0.8417 - val_loss: 0.4159 - val_acc: 0.7833\n",
      "Epoch 7/10\n",
      "720/720 [==============================] - 0s 139us/step - loss: 0.3856 - acc: 0.8583 - val_loss: 0.3723 - val_acc: 0.7833\n",
      "Epoch 8/10\n",
      "720/720 [==============================] - 0s 146us/step - loss: 0.3324 - acc: 0.8944 - val_loss: 0.3320 - val_acc: 0.9500\n",
      "Epoch 9/10\n",
      "720/720 [==============================] - 0s 147us/step - loss: 0.2981 - acc: 0.9208 - val_loss: 0.3015 - val_acc: 0.9833\n",
      "Epoch 10/10\n",
      "720/720 [==============================] - 0s 143us/step - loss: 0.2714 - acc: 0.9236 - val_loss: 0.2704 - val_acc: 0.9889\n",
      "232/232 [==============================] - 0s 91us/step\n",
      "('Accuracy:', 98.70689655172413)\n",
      "Confusion Matrix\n",
      "[[156   0   0]\n",
      " [  3  40   0]\n",
      " [  0   0  33]]\n",
      "('Precision(Normal)', 0.9811320754716981)\n",
      "('Precision(DOS)', 1.0)\n",
      "('Precision(Probe)', 1.0)\n"
     ]
    }
   ],
   "source": [
    "model= Sequential()\n",
    "model.add(Conv1D(strides=1, input_shape=(5,4), padding=\"same\", activation=\"tanh\", filters=32,kernel_size=2)),\n",
    "model.add(Flatten())\n",
    "\n",
    "model.add(Dense(128, input_dim=20, activation='relu'))\n",
    "model.add(Dropout(0.2))\n",
    "model.add(Dense(3, activation='softmax'))\n",
    "\n",
    "adam=Adam(lr=0.0001)\n",
    "\n",
    "model.compile(loss='categorical_crossentropy', optimizer=adam, metrics=['acc'])\n",
    "\n",
    "print(model.summary())\n",
    "\n",
    "model.fit(train_data, train_label, epochs=10, batch_size=None,validation_split=0.2)\n",
    "\n",
    "scores= model.evaluate(test_data,test_label)\n",
    "print(\"Accuracy:\",scores[1]*100)\n",
    "pred=model.predict(test_data)\n",
    "cm=confusion_matrix(test_label.argmax(axis=1),pred.argmax(axis=1))\n",
    "print(\"Confusion Matrix\")\n",
    "print(cm)\n",
    "print('Precision(Normal)',(np.float(cm[0][0])/np.float(np.sum(cm[:,0]))))\n",
    "print('Precision(DOS)',(np.float(cm[1][1])/np.float(np.sum(cm[:,1]))))\n",
    "print('Precision(Probe)',(np.float(cm[2][2])/np.float(np.sum(cm[:,2]))))\n"
   ]
  },
  {
   "cell_type": "code",
   "execution_count": null,
   "metadata": {},
   "outputs": [],
   "source": []
  }
 ],
 "metadata": {
  "kernelspec": {
   "display_name": "Python3.6",
   "language": "python",
   "name": "python3.6"
  },
  "language_info": {
   "codemirror_mode": {
    "name": "ipython",
    "version": 2
   },
   "file_extension": ".py",
   "mimetype": "text/x-python",
   "name": "python",
   "nbconvert_exporter": "python",
   "pygments_lexer": "ipython2",
   "version": "2.7.12"
  }
 },
 "nbformat": 4,
 "nbformat_minor": 2
}
